{
 "cells": [
  {
   "cell_type": "markdown",
   "metadata": {},
   "source": [
    "# Type"
   ]
  },
  {
   "cell_type": "markdown",
   "metadata": {},
   "source": [
    "### This is our \n",
    "We made a \"jupyter\""
   ]
  },
  {
   "cell_type": "code",
   "execution_count": 1,
   "metadata": {},
   "outputs": [],
   "source": [
    "# We want ot import pandas\n",
    "import pandas as pd"
   ]
  },
  {
   "cell_type": "code",
   "execution_count": 11,
   "metadata": {},
   "outputs": [],
   "source": [
    "data=pd.read_csv(\"/Users/glu/Desktop/Python-Day2/data/gapminder_gdp_europe.csv\")"
   ]
  },
  {
   "cell_type": "code",
   "execution_count": 12,
   "metadata": {},
   "outputs": [],
   "source": [
    "data=pd.read_csv('../data/gapminder_gdp_europe.csv',index_col=\"country\")"
   ]
  },
  {
   "cell_type": "code",
   "execution_count": 13,
   "metadata": {},
   "outputs": [
    {
     "data": {
      "application/javascript": [
       "IPython.notebook.set_autosave_interval(60000)"
      ]
     },
     "metadata": {},
     "output_type": "display_data"
    },
    {
     "name": "stdout",
     "output_type": "stream",
     "text": [
      "Autosaving every 60 seconds\n"
     ]
    }
   ],
   "source": [
    "%autosave 60"
   ]
  },
  {
   "cell_type": "markdown",
   "metadata": {},
   "source": [
    "#### Find the location in a dataframe using DataFrame.iloc[ , ]"
   ]
  },
  {
   "cell_type": "code",
   "execution_count": 14,
   "metadata": {},
   "outputs": [
    {
     "name": "stdout",
     "output_type": "stream",
     "text": [
      "         gdpPercap_1952  gdpPercap_1957  gdpPercap_1962  gdpPercap_1967  \\\n",
      "country                                                                   \n",
      "Albania     1601.056136     1942.284244     2312.888958     2760.196931   \n",
      "Austria     6137.076492     8842.598030    10750.721110    12834.602400   \n",
      "Belgium     8343.105127     9714.960623    10991.206760    13149.041190   \n",
      "\n",
      "         gdpPercap_1972  gdpPercap_1977  gdpPercap_1982  gdpPercap_1987  \\\n",
      "country                                                                   \n",
      "Albania     3313.422188      3533.00391     3630.880722     3738.932735   \n",
      "Austria    16661.625600     19749.42230    21597.083620    23687.826070   \n",
      "Belgium    16672.143560     19117.97448    20979.845890    22525.563080   \n",
      "\n",
      "         gdpPercap_1992  gdpPercap_1997  gdpPercap_2002  gdpPercap_2007  \n",
      "country                                                                  \n",
      "Albania     2497.437901     3193.054604     4604.211737     5937.029526  \n",
      "Austria    27042.018680    29095.920660    32417.607690    36126.492700  \n",
      "Belgium    25575.570690    27561.196630    30485.883750    33692.605080  \n"
     ]
    }
   ],
   "source": [
    "print(data.head(3))"
   ]
  },
  {
   "cell_type": "code",
   "execution_count": 15,
   "metadata": {},
   "outputs": [
    {
     "data": {
      "text/plain": [
       "1601.056136"
      ]
     },
     "execution_count": 15,
     "metadata": {},
     "output_type": "execute_result"
    }
   ],
   "source": [
    "data.iloc[0,0]"
   ]
  },
  {
   "cell_type": "code",
   "execution_count": 16,
   "metadata": {},
   "outputs": [
    {
     "data": {
      "text/plain": [
       "1601.056136"
      ]
     },
     "execution_count": 16,
     "metadata": {},
     "output_type": "execute_result"
    }
   ],
   "source": [
    "data.loc['Albania','gdpPercap_1952']"
   ]
  },
  {
   "cell_type": "markdown",
   "metadata": {},
   "source": [
    "#### Use ':' to indicate \"all\""
   ]
  },
  {
   "cell_type": "code",
   "execution_count": 17,
   "metadata": {},
   "outputs": [
    {
     "name": "stdout",
     "output_type": "stream",
     "text": [
      "gdpPercap_1952    1601.056136\n",
      "gdpPercap_1957    1942.284244\n",
      "gdpPercap_1962    2312.888958\n",
      "gdpPercap_1967    2760.196931\n",
      "gdpPercap_1972    3313.422188\n",
      "gdpPercap_1977    3533.003910\n",
      "gdpPercap_1982    3630.880722\n",
      "gdpPercap_1987    3738.932735\n",
      "gdpPercap_1992    2497.437901\n",
      "gdpPercap_1997    3193.054604\n",
      "gdpPercap_2002    4604.211737\n",
      "gdpPercap_2007    5937.029526\n",
      "Name: Albania, dtype: float64\n"
     ]
    }
   ],
   "source": [
    "print(data.loc['Albania',:])"
   ]
  },
  {
   "cell_type": "code",
   "execution_count": 19,
   "metadata": {},
   "outputs": [
    {
     "name": "stdout",
     "output_type": "stream",
     "text": [
      "country\n",
      "Albania                    1601.056136\n",
      "Austria                    6137.076492\n",
      "Belgium                    8343.105127\n",
      "Bosnia and Herzegovina      973.533195\n",
      "Bulgaria                   2444.286648\n",
      "Croatia                    3119.236520\n",
      "Czech Republic             6876.140250\n",
      "Denmark                    9692.385245\n",
      "Finland                    6424.519071\n",
      "France                     7029.809327\n",
      "Germany                    7144.114393\n",
      "Greece                     3530.690067\n",
      "Hungary                    5263.673816\n",
      "Iceland                    7267.688428\n",
      "Ireland                    5210.280328\n",
      "Italy                      4931.404155\n",
      "Montenegro                 2647.585601\n",
      "Netherlands                8941.571858\n",
      "Norway                    10095.421720\n",
      "Poland                     4029.329699\n",
      "Portugal                   3068.319867\n",
      "Romania                    3144.613186\n",
      "Serbia                     3581.459448\n",
      "Slovak Republic            5074.659104\n",
      "Slovenia                   4215.041741\n",
      "Spain                      3834.034742\n",
      "Sweden                     8527.844662\n",
      "Switzerland               14734.232750\n",
      "Turkey                     1969.100980\n",
      "United Kingdom             9979.508487\n",
      "Name: gdpPercap_1952, dtype: float64\n"
     ]
    }
   ],
   "source": [
    "print(data.iloc[:,0])"
   ]
  },
  {
   "cell_type": "markdown",
   "metadata": {},
   "source": [
    "# `matplotlib`"
   ]
  },
  {
   "cell_type": "code",
   "execution_count": 20,
   "metadata": {},
   "outputs": [],
   "source": [
    "%matplotlib inline"
   ]
  },
  {
   "cell_type": "code",
   "execution_count": 21,
   "metadata": {},
   "outputs": [],
   "source": [
    "import matplotlib.pyplot as plt"
   ]
  },
  {
   "cell_type": "code",
   "execution_count": 22,
   "metadata": {},
   "outputs": [],
   "source": [
    "time=[0,1,2,3]\n",
    "position=[0,100,200,300]"
   ]
  },
  {
   "cell_type": "code",
   "execution_count": 26,
   "metadata": {},
   "outputs": [
    {
     "data": {
      "text/plain": [
       "Text(0,0.5,'Position (km)')"
      ]
     },
     "execution_count": 26,
     "metadata": {},
     "output_type": "execute_result"
    },
    {
     "data": {
      "image/png": "[encoded data removed]",
      "text/plain": [
       "<Figure size 432x288 with 1 Axes>"
      ]
     },
     "metadata": {},
     "output_type": "display_data"
    }
   ],
   "source": [
    "plt.plot(time,position)\n",
    "plt.xlabel('Time(hr)')\n",
    "plt.ylabel('Position (km)')"
   ]
  },
  {
   "cell_type": "code",
   "execution_count": 27,
   "metadata": {},
   "outputs": [],
   "source": [
    "data=pd.read_csv('../data/gapminder_gdp_oceania.csv',index_col=\"country\")"
   ]
  },
  {
   "cell_type": "code",
   "execution_count": 28,
   "metadata": {},
   "outputs": [],
   "source": [
    "years= data.columns.str.strip('gdp_Percap_')"
   ]
  },
  {
   "cell_type": "code",
   "execution_count": 30,
   "metadata": {},
   "outputs": [],
   "source": [
    "data.columns = years.astype(int)"
   ]
  },
  {
   "cell_type": "code",
   "execution_count": 32,
   "metadata": {},
   "outputs": [
    {
     "data": {
      "text/plain": [
       "Text(0,0.5,'GDP percap')"
      ]
     },
     "execution_count": 32,
     "metadata": {},
     "output_type": "execute_result"
    },
    {
     "data": {
      "image/png": "[encoded data removed]",
      "text/plain": [
       "<Figure size 432x288 with 1 Axes>"
      ]
     },
     "metadata": {},
     "output_type": "display_data"
    }
   ],
   "source": [
    "data.loc['Australia'].plot()\n",
    "plt.xlabel('Year')\n",
    "plt.ylabel('GDP percap')"
   ]
  },
  {
   "cell_type": "code",
   "execution_count": 33,
   "metadata": {},
   "outputs": [
    {
     "data": {
      "text/plain": [
       "<matplotlib.axes._subplots.AxesSubplot at 0x1171e6d30>"
      ]
     },
     "execution_count": 33,
     "metadata": {},
     "output_type": "execute_result"
    },
    {
     "data": {
      "image/png": "[encoded data removed]",
      "text/plain": [
       "<Figure size 432x288 with 1 Axes>"
      ]
     },
     "metadata": {},
     "output_type": "display_data"
    }
   ],
   "source": [
    "data.T.plot()\n",
    "plt.ylabel('GDP percar')\n"
   ]
  },
  {
   "cell_type": "code",
   "execution_count": null,
   "metadata": {},
   "outputs": [],
   "source": []
  },
  {
   "cell_type": "code",
   "execution_count": null,
   "metadata": {},
   "outputs": [],
   "source": []
  },
  {
   "cell_type": "code",
   "execution_count": null,
   "metadata": {},
   "outputs": [],
   "source": []
  },
  {
   "cell_type": "code",
   "execution_count": null,
   "metadata": {},
   "outputs": [],
   "source": []
  },
  {
   "cell_type": "code",
   "execution_count": null,
   "metadata": {},
   "outputs": [],
   "source": []
  },
  {
   "cell_type": "code",
   "execution_count": null,
   "metadata": {},
   "outputs": [],
   "source": []
  },
  {
   "cell_type": "code",
   "execution_count": null,
   "metadata": {},
   "outputs": [],
   "source": []
  },
  {
   "cell_type": "code",
   "execution_count": null,
   "metadata": {},
   "outputs": [],
   "source": []
  },
  {
   "cell_type": "code",
   "execution_count": null,
   "metadata": {},
   "outputs": [],
   "source": []
  },
  {
   "cell_type": "code",
   "execution_count": null,
   "metadata": {},
   "outputs": [],
   "source": []
  },
  {
   "cell_type": "code",
   "execution_count": null,
   "metadata": {},
   "outputs": [],
   "source": []
  },
  {
   "cell_type": "code",
   "execution_count": 7,
   "metadata": {},
   "outputs": [
    {
     "data": {
      "text/plain": [
       "<bound method DataFrame.info of                    country  gdpPercap_1952  gdpPercap_1957  gdpPercap_1962  \\\n",
       "0                  Albania     1601.056136     1942.284244     2312.888958   \n",
       "1                  Austria     6137.076492     8842.598030    10750.721110   \n",
       "2                  Belgium     8343.105127     9714.960623    10991.206760   \n",
       "3   Bosnia and Herzegovina      973.533195     1353.989176     1709.683679   \n",
       "4                 Bulgaria     2444.286648     3008.670727     4254.337839   \n",
       "5                  Croatia     3119.236520     4338.231617     5477.890018   \n",
       "6           Czech Republic     6876.140250     8256.343918    10136.867130   \n",
       "7                  Denmark     9692.385245    11099.659350    13583.313510   \n",
       "8                  Finland     6424.519071     7545.415386     9371.842561   \n",
       "9                   France     7029.809327     8662.834898    10560.485530   \n",
       "10                 Germany     7144.114393    10187.826650    12902.462910   \n",
       "11                  Greece     3530.690067     4916.299889     6017.190733   \n",
       "12                 Hungary     5263.673816     6040.180011     7550.359877   \n",
       "13                 Iceland     7267.688428     9244.001412    10350.159060   \n",
       "14                 Ireland     5210.280328     5599.077872     6631.597314   \n",
       "15                   Italy     4931.404155     6248.656232     8243.582340   \n",
       "16              Montenegro     2647.585601     3682.259903     4649.593785   \n",
       "17             Netherlands     8941.571858    11276.193440    12790.849560   \n",
       "18                  Norway    10095.421720    11653.973040    13450.401510   \n",
       "19                  Poland     4029.329699     4734.253019     5338.752143   \n",
       "20                Portugal     3068.319867     3774.571743     4727.954889   \n",
       "21                 Romania     3144.613186     3943.370225     4734.997586   \n",
       "22                  Serbia     3581.459448     4981.090891     6289.629157   \n",
       "23         Slovak Republic     5074.659104     6093.262980     7481.107598   \n",
       "24                Slovenia     4215.041741     5862.276629     7402.303395   \n",
       "25                   Spain     3834.034742     4564.802410     5693.843879   \n",
       "26                  Sweden     8527.844662     9911.878226    12329.441920   \n",
       "27             Switzerland    14734.232750    17909.489730    20431.092700   \n",
       "28                  Turkey     1969.100980     2218.754257     2322.869908   \n",
       "29          United Kingdom     9979.508487    11283.177950    12477.177070   \n",
       "\n",
       "    gdpPercap_1967  gdpPercap_1972  gdpPercap_1977  gdpPercap_1982  \\\n",
       "0      2760.196931     3313.422188     3533.003910     3630.880722   \n",
       "1     12834.602400    16661.625600    19749.422300    21597.083620   \n",
       "2     13149.041190    16672.143560    19117.974480    20979.845890   \n",
       "3      2172.352423     2860.169750     3528.481305     4126.613157   \n",
       "4      5577.002800     6597.494398     7612.240438     8224.191647   \n",
       "5      6960.297861     9164.090127    11305.385170    13221.821840   \n",
       "6     11399.444890    13108.453600    14800.160620    15377.228550   \n",
       "7     15937.211230    18866.207210    20422.901500    21688.040480   \n",
       "8     10921.636260    14358.875900    15605.422830    18533.157610   \n",
       "9     12999.917660    16107.191710    18292.635140    20293.897460   \n",
       "10    14745.625610    18016.180270    20512.921230    22031.532740   \n",
       "11     8513.097016    12724.829570    14195.524280    15268.420890   \n",
       "12     9326.644670    10168.656110    11674.837370    12545.990660   \n",
       "13    13319.895680    15798.063620    19654.962470    23269.607500   \n",
       "14     7655.568963     9530.772896    11150.981130    12618.321410   \n",
       "15    10022.401310    12269.273780    14255.984750    16537.483500   \n",
       "16     5907.850937     7778.414017     9595.929905    11222.587620   \n",
       "17    15363.251360    18794.745670    21209.059200    21399.460460   \n",
       "18    16361.876470    18965.055510    23311.349390    26298.635310   \n",
       "19     6557.152776     8006.506993     9508.141454     8451.531004   \n",
       "20     6361.517993     9022.247417    10172.485720    11753.842910   \n",
       "21     6470.866545     8011.414402     9356.397240     9605.314053   \n",
       "22     7991.707066    10522.067490    12980.669560    15181.092700   \n",
       "23     8412.902397     9674.167626    10922.664040    11348.545850   \n",
       "24     9405.489397    12383.486200    15277.030170    17866.721750   \n",
       "25     7993.512294    10638.751310    13236.921170    13926.169970   \n",
       "26    15258.296970    17832.024640    18855.725210    20667.381250   \n",
       "27    22966.144320    27195.113040    26982.290520    28397.715120   \n",
       "28     2826.356387     3450.696380     4269.122326     4241.356344   \n",
       "29    14142.850890    15895.116410    17428.748460    18232.424520   \n",
       "\n",
       "    gdpPercap_1987  gdpPercap_1992  gdpPercap_1997  gdpPercap_2002  \\\n",
       "0      3738.932735     2497.437901     3193.054604     4604.211737   \n",
       "1     23687.826070    27042.018680    29095.920660    32417.607690   \n",
       "2     22525.563080    25575.570690    27561.196630    30485.883750   \n",
       "3      4314.114757     2546.781445     4766.355904     6018.975239   \n",
       "4      8239.854824     6302.623438     5970.388760     7696.777725   \n",
       "5     13822.583940     8447.794873     9875.604515    11628.388950   \n",
       "6     16310.443400    14297.021220    16048.514240    17596.210220   \n",
       "7     25116.175810    26406.739850    29804.345670    32166.500060   \n",
       "8     21141.012230    20647.164990    23723.950200    28204.590570   \n",
       "9     22066.442140    24703.796150    25889.784870    28926.032340   \n",
       "10    24639.185660    26505.303170    27788.884160    30035.801980   \n",
       "11    16120.528390    17541.496340    18747.698140    22514.254800   \n",
       "12    12986.479980    10535.628550    11712.776800    14843.935560   \n",
       "13    26923.206280    25144.392010    28061.099660    31163.201960   \n",
       "14    13872.866520    17558.815550    24521.947130    34077.049390   \n",
       "15    19207.234820    22013.644860    24675.024460    27968.098170   \n",
       "16    11732.510170     7003.339037     6465.613349     6557.194282   \n",
       "17    23651.323610    26790.949610    30246.130630    33724.757780   \n",
       "18    31540.974800    33965.661150    41283.164330    44683.975250   \n",
       "19     9082.351172     7738.881247    10159.583680    12002.239080   \n",
       "20    13039.308760    16207.266630    17641.031560    19970.907870   \n",
       "21     9696.273295     6598.409903     7346.547557     7885.360081   \n",
       "22    15870.878510     9325.068238     7914.320304     7236.075251   \n",
       "23    12037.267580     9498.467723    12126.230650    13638.778370   \n",
       "24    18678.534920    14214.716810    17161.107350    20660.019360   \n",
       "25    15764.983130    18603.064520    20445.298960    24835.471660   \n",
       "26    23586.929270    23880.016830    25266.594990    29341.630930   \n",
       "27    30281.704590    31871.530300    32135.323010    34480.957710   \n",
       "28     5089.043686     5678.348271     6601.429915     6508.085718   \n",
       "29    21664.787670    22705.092540    26074.531360    29478.999190   \n",
       "\n",
       "    gdpPercap_2007  \n",
       "0      5937.029526  \n",
       "1     36126.492700  \n",
       "2     33692.605080  \n",
       "3      7446.298803  \n",
       "4     10680.792820  \n",
       "5     14619.222720  \n",
       "6     22833.308510  \n",
       "7     35278.418740  \n",
       "8     33207.084400  \n",
       "9     30470.016700  \n",
       "10    32170.374420  \n",
       "11    27538.411880  \n",
       "12    18008.944440  \n",
       "13    36180.789190  \n",
       "14    40675.996350  \n",
       "15    28569.719700  \n",
       "16     9253.896111  \n",
       "17    36797.933320  \n",
       "18    49357.190170  \n",
       "19    15389.924680  \n",
       "20    20509.647770  \n",
       "21    10808.475610  \n",
       "22     9786.534714  \n",
       "23    18678.314350  \n",
       "24    25768.257590  \n",
       "25    28821.063700  \n",
       "26    33859.748350  \n",
       "27    37506.419070  \n",
       "28     8458.276384  \n",
       "29    33203.261280  >"
      ]
     },
     "execution_count": 7,
     "metadata": {},
     "output_type": "execute_result"
    }
   ],
   "source": [
    "data.info"
   ]
  },
  {
   "cell_type": "code",
   "execution_count": null,
   "metadata": {},
   "outputs": [],
   "source": []
  },
  {
   "cell_type": "code",
   "execution_count": null,
   "metadata": {},
   "outputs": [],
   "source": []
  },
  {
   "cell_type": "code",
   "execution_count": null,
   "metadata": {},
   "outputs": [],
   "source": []
  },
  {
   "cell_type": "code",
   "execution_count": null,
   "metadata": {},
   "outputs": [],
   "source": []
  },
  {
   "cell_type": "code",
   "execution_count": null,
   "metadata": {},
   "outputs": [],
   "source": []
  }
 ],
 "metadata": {
  "kernelspec": {
   "display_name": "Python 3",
   "language": "python",
   "name": "python3"
  },
  "language_info": {
   "codemirror_mode": {
    "name": "ipython",
    "version": 3
   },
   "file_extension": ".py",
   "mimetype": "text/x-python",
   "name": "python",
   "nbconvert_exporter": "python",
   "pygments_lexer": "ipython3",
   "version": "3.6.5"
  }
 },
 "nbformat": 4,
 "nbformat_minor": 2
}
